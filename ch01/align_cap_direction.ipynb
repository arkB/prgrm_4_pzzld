{
 "cells": [
  {
   "cell_type": "code",
   "execution_count": 6,
   "metadata": {},
   "outputs": [],
   "source": [
    "def pleaseConform(caps):\n",
    "    start = forward = backward = 0\n",
    "    intervals = []\n",
    "    for i in range(1, len(caps)):\n",
    "        intervals.append((start, i-1, caps[start]))\n",
    "        if caps[start] != caps[i]:\n",
    "            intervals.append((start, i-1, caps[start]))\n",
    "            if caps[start] == 'F':\n",
    "                forward += 1\n",
    "            else:\n",
    "                backward += 1\n",
    "            start = i\n",
    "    intervals.append((start, len(caps)-1, caps[start]))\n",
    "    if caps[start] == 'F':\n",
    "        forward += 1\n",
    "    else:\n",
    "        backward += 1\n",
    "    if forward < backward:\n",
    "        flip = 'F'\n",
    "    else:\n",
    "        flip = 'B'\n",
    "    for t in intervals:\n",
    "        if t[2] == flip:\n",
    "            print('People in positions', t[0], 'through', t[1], 'flip your caps!')"
   ]
  },
  {
   "cell_type": "code",
   "execution_count": 2,
   "metadata": {},
   "outputs": [],
   "source": [
    "cap1 = ['F', 'F', 'B', 'B', 'B', 'F', 'B', 'B', 'B', 'F', 'F', 'B', 'F']"
   ]
  },
  {
   "cell_type": "code",
   "execution_count": 7,
   "metadata": {},
   "outputs": [
    {
     "name": "stdout",
     "output_type": "stream",
     "text": [
      "People in positions 2 through 2 flip your caps!\n",
      "People in positions 2 through 3 flip your caps!\n",
      "People in positions 2 through 4 flip your caps!\n",
      "People in positions 2 through 4 flip your caps!\n",
      "People in positions 6 through 6 flip your caps!\n",
      "People in positions 6 through 7 flip your caps!\n",
      "People in positions 6 through 8 flip your caps!\n",
      "People in positions 6 through 8 flip your caps!\n",
      "People in positions 11 through 11 flip your caps!\n",
      "People in positions 11 through 11 flip your caps!\n"
     ]
    }
   ],
   "source": [
    "pleaseConform(cap1)"
   ]
  },
  {
   "cell_type": "code",
   "execution_count": null,
   "metadata": {},
   "outputs": [],
   "source": []
  }
 ],
 "metadata": {
  "kernelspec": {
   "display_name": "Python 3",
   "language": "python",
   "name": "python3"
  },
  "language_info": {
   "codemirror_mode": {
    "name": "ipython",
    "version": 3
   },
   "file_extension": ".py",
   "mimetype": "text/x-python",
   "name": "python",
   "nbconvert_exporter": "python",
   "pygments_lexer": "ipython3",
   "version": "3.6.5"
  }
 },
 "nbformat": 4,
 "nbformat_minor": 2
}
